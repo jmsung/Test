{
 "cells": [
  {
   "cell_type": "markdown",
   "metadata": {},
   "source": [
    "# Here I have some useful python codes. "
   ]
  },
  {
   "cell_type": "code",
   "execution_count": 33,
   "metadata": {},
   "outputs": [
    {
     "name": "stdout",
     "output_type": "stream",
     "text": [
      "Import library\n"
     ]
    }
   ],
   "source": [
    "# Import library\n",
    "from __future__ import division, print_function, absolute_import\n",
    "import numpy as np\n",
    "import matplotlib.pyplot as plt\n",
    "%matplotlib inline\n",
    "print('Import library')"
   ]
  },
  {
   "cell_type": "markdown",
   "metadata": {},
   "source": [
    "# How to sort a Python dict by value"
   ]
  },
  {
   "cell_type": "code",
   "execution_count": 34,
   "metadata": {},
   "outputs": [
    {
     "data": {
      "text/plain": [
       "[('d', 1), ('c', 2), ('b', 3), ('a', 4)]"
      ]
     },
     "execution_count": 34,
     "metadata": {},
     "output_type": "execute_result"
    }
   ],
   "source": [
    "# How to sort a Python dict by value\n",
    "# (== get a representation sorted by value)\n",
    "\n",
    "xs = {'a': 4, 'b': 3, 'c': 2, 'd': 1}\n",
    "sorted(xs.items(), key=lambda x: x[1])"
   ]
  },
  {
   "cell_type": "markdown",
   "metadata": {},
   "source": [
    "# Left pad with zero"
   ]
  },
  {
   "cell_type": "code",
   "execution_count": 35,
   "metadata": {},
   "outputs": [
    {
     "data": {
      "text/plain": [
       "'004'"
      ]
     },
     "execution_count": 35,
     "metadata": {},
     "output_type": "execute_result"
    }
   ],
   "source": [
    "# Left pad with zero\n",
    "n = '4'\n",
    "n.zfill(3)"
   ]
  },
  {
   "cell_type": "markdown",
   "metadata": {},
   "source": [
    "# Subplots example"
   ]
  },
  {
   "cell_type": "code",
   "execution_count": 36,
   "metadata": {},
   "outputs": [
    {
     "data": {
      "image/png": "[encoded data removed]",
      "text/plain": [
       "<Figure size 432x288 with 4 Axes>"
      ]
     },
     "metadata": {
      "needs_background": "light"
     },
     "output_type": "display_data"
    }
   ],
   "source": [
    "import numpy as np\n",
    "import matplotlib.pyplot as plt\n",
    "\n",
    "# Data for plotting\n",
    "t = np.arange(0.01, 20.0, 0.01)\n",
    "\n",
    "# Create figure\n",
    "fig, ((ax1, ax2), (ax3, ax4)) = plt.subplots(2, 2)\n",
    "\n",
    "# log y axis\n",
    "ax1.semilogy(t, np.exp(-t / 5.0))\n",
    "ax1.set(title='semilogy')\n",
    "ax1.grid()\n",
    "\n",
    "# log x axis\n",
    "ax2.semilogx(t, np.sin(2 * np.pi * t))\n",
    "ax2.set(title='semilogx')\n",
    "ax2.grid()\n",
    "\n",
    "# log x and y axis\n",
    "ax3.loglog(t, 20 * np.exp(-t / 10.0), basex=2)\n",
    "ax3.set(title='loglog base 2 on x')\n",
    "ax3.grid()\n",
    "\n",
    "# With errorbars: clip non-positive values\n",
    "# Use new data for plotting\n",
    "x = 10.0**np.linspace(0.0, 2.0, 20)\n",
    "y = x**2.0\n",
    "\n",
    "ax4.set_xscale(\"log\", nonposx='clip')\n",
    "ax4.set_yscale(\"log\", nonposy='clip')\n",
    "ax4.set(title='Errorbars go negative')\n",
    "ax4.errorbar(x, y, xerr=0.1 * x, yerr=5.0 + 0.75 * y)\n",
    "# ylim must be set after errorbar to allow errorbar to autoscale limits\n",
    "ax4.set_ylim(bottom=0.1)\n",
    "\n",
    "fig.tight_layout()\n",
    "plt.show()"
   ]
  },
  {
   "cell_type": "markdown",
   "metadata": {},
   "source": [
    "# Namedtuple"
   ]
  },
  {
   "cell_type": "code",
   "execution_count": 68,
   "metadata": {},
   "outputs": [
    {
     "name": "stdout",
     "output_type": "stream",
     "text": [
      "Car(company='Toyota', name='Sienna LE', color='gray', mileage=[3812.4], data=[0, 1, 2, 3, 4])\n",
      "Car(company='Toyota', name='Sienna LE', color='gray', mileage=[1000], data=[4, 3, 2, 1, 0])\n"
     ]
    }
   ],
   "source": [
    "# Using namedtuple is way shorter than defining a class manually.\n",
    "# Namedtuple is immutable\n",
    "\n",
    "from collections import namedtuple\n",
    "Car = namedtuple('Car', 'company name color mileage data')\n",
    "my_car = Car('Toyota', 'Sienna LE', 'gray', [3812.4], [i for i in range(5)])\n",
    "print(my_car)\n",
    "my_car.mileage[0] = 1000\n",
    "my_car.data.sort(reverse=True)\n",
    "print(my_car)"
   ]
  },
  {
   "cell_type": "code",
   "execution_count": 69,
   "metadata": {},
   "outputs": [
    {
     "data": {
      "text/plain": [
       "\u001b[1;31mInit signature:\u001b[0m \u001b[0mcollections\u001b[0m\u001b[1;33m.\u001b[0m\u001b[0mdeque\u001b[0m\u001b[1;33m(\u001b[0m\u001b[0mself\u001b[0m\u001b[1;33m,\u001b[0m \u001b[1;33m/\u001b[0m\u001b[1;33m,\u001b[0m \u001b[1;33m*\u001b[0m\u001b[0margs\u001b[0m\u001b[1;33m,\u001b[0m \u001b[1;33m**\u001b[0m\u001b[0mkwargs\u001b[0m\u001b[1;33m)\u001b[0m\u001b[1;33m\u001b[0m\u001b[1;33m\u001b[0m\u001b[0m\n",
       "\u001b[1;31mDocstring:\u001b[0m     \n",
       "deque([iterable[, maxlen]]) --> deque object\n",
       "\n",
       "A list-like sequence optimized for data accesses near its endpoints.\n",
       "\u001b[1;31mFile:\u001b[0m           c:\\programdata\\anaconda3\\lib\\collections\\__init__.py\n",
       "\u001b[1;31mType:\u001b[0m           type\n",
       "\u001b[1;31mSubclasses:\u001b[0m     Deque\n"
      ]
     },
     "metadata": {},
     "output_type": "display_data"
    }
   ],
   "source": [
    "import collections\n",
    "collections.deque?"
   ]
  },
  {
   "cell_type": "code",
   "execution_count": null,
   "metadata": {},
   "outputs": [],
   "source": []
  },
  {
   "cell_type": "code",
   "execution_count": null,
   "metadata": {},
   "outputs": [],
   "source": []
  },
  {
   "cell_type": "code",
   "execution_count": null,
   "metadata": {},
   "outputs": [],
   "source": []
  },
  {
   "cell_type": "code",
   "execution_count": null,
   "metadata": {},
   "outputs": [],
   "source": []
  },
  {
   "cell_type": "code",
   "execution_count": null,
   "metadata": {},
   "outputs": [],
   "source": []
  },
  {
   "cell_type": "code",
   "execution_count": null,
   "metadata": {},
   "outputs": [],
   "source": []
  }
 ],
 "metadata": {
  "kernelspec": {
   "display_name": "Python 3",
   "language": "python",
   "name": "python3"
  },
  "language_info": {
   "codemirror_mode": {
    "name": "ipython",
    "version": 3
   },
   "file_extension": ".py",
   "mimetype": "text/x-python",
   "name": "python",
   "nbconvert_exporter": "python",
   "pygments_lexer": "ipython3",
   "version": "3.7.3"
  }
 },
 "nbformat": 4,
 "nbformat_minor": 2
}
